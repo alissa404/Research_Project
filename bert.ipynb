{
 "cells": [
  {
   "cell_type": "code",
   "execution_count": 36,
   "metadata": {},
   "outputs": [
    {
     "name": "stdout",
     "output_type": "stream",
     "text": [
      "WARNING:tensorflow:From /home/alissa77/fake-news-detect/bert/args.py:4: The name tf.logging.set_verbosity is deprecated. Please use tf.compat.v1.logging.set_verbosity instead.\n",
      "\n",
      "WARNING:tensorflow:From /home/alissa77/fake-news-detect/bert/args.py:4: The name tf.logging.INFO is deprecated. Please use tf.compat.v1.logging.INFO instead.\n",
      "\n",
      "WARNING:tensorflow:From /home/alissa77/fake-news-detect/bert/tokenization.py:74: The name tf.gfile.GFile is deprecated. Please use tf.io.gfile.GFile instead.\n",
      "\n",
      "WARNING:tensorflow:From /home/alissa77/fake-news-detect/bert/extract_feature.py:75: The name tf.ConfigProto is deprecated. Please use tf.compat.v1.ConfigProto instead.\n",
      "\n",
      "WARNING:tensorflow:From /home/alissa77/fake-news-detect/bert/extract_feature.py:79: The name tf.OptimizerOptions is deprecated. Please use tf.compat.v1.OptimizerOptions instead.\n",
      "\n",
      "INFO:tensorflow:Using config: {'_model_dir': '../tmp', '_tf_random_seed': None, '_save_summary_steps': 100, '_save_checkpoints_steps': None, '_save_checkpoints_secs': 600, '_session_config': gpu_options {\n",
      "  per_process_gpu_memory_fraction: 1.0\n",
      "  allow_growth: true\n",
      "}\n",
      "graph_options {\n",
      "  optimizer_options {\n",
      "    global_jit_level: ON_1\n",
      "  }\n",
      "}\n",
      ", '_keep_checkpoint_max': 5, '_keep_checkpoint_every_n_hours': 10000, '_log_step_count_steps': 100, '_train_distribute': None, '_device_fn': None, '_protocol': None, '_eval_distribute': None, '_experimental_distribute': None, '_experimental_max_worker_delay_secs': None, '_session_creation_timeout_secs': 7200, '_service': None, '_cluster_spec': <tensorflow.python.training.server_lib.ClusterSpec object at 0x7fe5e1853a58>, '_task_type': 'worker', '_task_id': 0, '_global_id_in_cluster': 0, '_master': '', '_evaluation_master': '', '_is_chief': True, '_num_ps_replicas': 0, '_num_worker_replicas': 1}\n",
      "INFO:tensorflow:Could not find trained model in model_dir: ../tmp, running initialization to predict.\n",
      "INFO:tensorflow:Calling model_fn.\n",
      "WARNING:tensorflow:From /home/alissa77/fake-news-detect/bert/extract_feature.py:62: The name tf.GraphDef is deprecated. Please use tf.compat.v1.GraphDef instead.\n",
      "\n",
      "INFO:tensorflow:Done calling model_fn.\n",
      "WARNING:tensorflow:From /home/alissa77/.local/lib/python3.6/site-packages/tensorflow_core/python/ops/array_ops.py:1475: where (from tensorflow.python.ops.array_ops) is deprecated and will be removed in a future version.\n",
      "Instructions for updating:\n",
      "Use tf.where in 2.0, which has the same broadcast rule as np.where\n",
      "INFO:tensorflow:Graph was finalized.\n",
      "INFO:tensorflow:Running local_init_op.\n",
      "INFO:tensorflow:Done running local_init_op.\n"
     ]
    }
   ],
   "source": [
    "from bert.extract_feature import BertVector\n",
    "bv = BertVector()"
   ]
  },
  {
   "cell_type": "code",
   "execution_count": 4,
   "metadata": {},
   "outputs": [],
   "source": [
    "import pandas as pd \n",
    "import pickle\n",
    "import tensorflow as tf\n",
    "from tensorflow import keras\n",
    "import numpy as np \n",
    "import matplotlib.pyplot as plt\n",
    "import os\n",
    "from tensorflow.keras.preprocessing.text import Tokenizer\n",
    "from tensorflow.keras.preprocessing.sequence import pad_sequences\n",
    "from sklearn.model_selection import train_test_split\n",
    "from sklearn.metrics import classification_report, confusion_matrix\n",
    "from tensorflow.keras.layers import Embedding\n",
    "import seaborn as sns"
   ]
  },
  {
   "cell_type": "code",
   "execution_count": 95,
   "metadata": {},
   "outputs": [
    {
     "name": "stdout",
     "output_type": "stream",
     "text": [
      "Shape of train (5767, 4)\n",
      "Shape of train (5767, 6)\n",
      "Shape of test (636, 6)\n"
     ]
    }
   ],
   "source": [
    "import pickle\n",
    "import pandas as pd\n",
    "\n",
    "data = pd.read_pickle('data_vector.pkl') #training\n",
    "ws = pd.read_pickle('CKIP.pkl') #from ckip creator\n",
    "df = pd.read_csv(\"test.csv\") #testing\n",
    "\n",
    "print(\"Shape of train\", data.shape) \n",
    "print(\"Shape of train\", ws.shape) \n",
    "print(\"Shape of test\", df.shape) "
   ]
  },
  {
   "cell_type": "code",
   "execution_count": 96,
   "metadata": {},
   "outputs": [
    {
     "data": {
      "text/html": [
       "<div>\n",
       "<style scoped>\n",
       "    .dataframe tbody tr th:only-of-type {\n",
       "        vertical-align: middle;\n",
       "    }\n",
       "\n",
       "    .dataframe tbody tr th {\n",
       "        vertical-align: top;\n",
       "    }\n",
       "\n",
       "    .dataframe thead th {\n",
       "        text-align: right;\n",
       "    }\n",
       "</style>\n",
       "<table border=\"1\" class=\"dataframe\">\n",
       "  <thead>\n",
       "    <tr style=\"text-align: right;\">\n",
       "      <th></th>\n",
       "      <th>claim</th>\n",
       "      <th>source</th>\n",
       "      <th>category</th>\n",
       "      <th>times</th>\n",
       "      <th>text</th>\n",
       "      <th>label</th>\n",
       "    </tr>\n",
       "  </thead>\n",
       "  <tbody>\n",
       "    <tr>\n",
       "      <th>0</th>\n",
       "      <td>友邦挺台參與WHA案遭中國強勢否決</td>\n",
       "      <td>公視</td>\n",
       "      <td>3.0</td>\n",
       "      <td>20180522</td>\n",
       "      <td>世界衛生大會WHA5月21號正式在日內瓦展開，臺灣今年沒受邀，但有15個友邦向大會提案邀請臺...</td>\n",
       "      <td>0.0</td>\n",
       "    </tr>\n",
       "    <tr>\n",
       "      <th>1</th>\n",
       "      <td>日本提案釣魚台更名保釣團體批侵害我國主權</td>\n",
       "      <td>公視</td>\n",
       "      <td>3.0</td>\n",
       "      <td>20200609</td>\n",
       "      <td>日本石垣市議會今天預計提出將釣魚台更名為登野城尖閣的提案，保釣團體今天上午前往日本交流協會前...</td>\n",
       "      <td>0.0</td>\n",
       "    </tr>\n",
       "    <tr>\n",
       "      <th>2</th>\n",
       "      <td>日本NHK專訪蔡英文談兩岸關係議題</td>\n",
       "      <td>公視</td>\n",
       "      <td>3.0</td>\n",
       "      <td>20190803</td>\n",
       "      <td>日本NHK電視台，接連兩天以兩岸關係為議題，先播出臺灣關心香港反送中運動，昨天播出總統蔡英文...</td>\n",
       "      <td>0.0</td>\n",
       "    </tr>\n",
       "    <tr>\n",
       "      <th>3</th>\n",
       "      <td>世界衛生組織大會將舉行我國目前仍未收到邀請函</td>\n",
       "      <td>公視</td>\n",
       "      <td>3.0</td>\n",
       "      <td>20200512</td>\n",
       "      <td>世界衛生大會即將舉行，但臺灣沒有收到邀請函美國參議院通過法案，要求國務院應該協助臺灣以觀察員...</td>\n",
       "      <td>0.0</td>\n",
       "    </tr>\n",
       "    <tr>\n",
       "      <th>4</th>\n",
       "      <td>世界衛生組織大會視訊進行美日與我友邦挺台</td>\n",
       "      <td>公視</td>\n",
       "      <td>3.0</td>\n",
       "      <td>20200519</td>\n",
       "      <td>世界衛生大會正在以視訊方式進行當中，但臺灣沒有受邀，包括美、日及臺灣友邦12個友邦都已經在會...</td>\n",
       "      <td>0.0</td>\n",
       "    </tr>\n",
       "    <tr>\n",
       "      <th>...</th>\n",
       "      <td>...</td>\n",
       "      <td>...</td>\n",
       "      <td>...</td>\n",
       "      <td>...</td>\n",
       "      <td>...</td>\n",
       "      <td>...</td>\n",
       "    </tr>\n",
       "    <tr>\n",
       "      <th>631</th>\n",
       "      <td>廣東深圳政變要習大大下台抗爭</td>\n",
       "      <td>MyGoPen</td>\n",
       "      <td>3.0</td>\n",
       "      <td>NaN</td>\n",
       "      <td>廣東深圳政變要習大大下台抗爭</td>\n",
       "      <td>1.0</td>\n",
       "    </tr>\n",
       "    <tr>\n",
       "      <th>632</th>\n",
       "      <td>蔡英文說小三通、通三小</td>\n",
       "      <td>MyGoPen</td>\n",
       "      <td>3.0</td>\n",
       "      <td>NaN</td>\n",
       "      <td>蔡英文說小三通、通三小的影片</td>\n",
       "      <td>1.0</td>\n",
       "    </tr>\n",
       "    <tr>\n",
       "      <th>633</th>\n",
       "      <td>總統府很熱鬧，新聞都沒報、反性解放進入校園抗議，要求蔡總統下台</td>\n",
       "      <td>MyGoPen</td>\n",
       "      <td>3.0</td>\n",
       "      <td>NaN</td>\n",
       "      <td>總統府很熱鬧，新聞都沒報、反性解放進入校園抗議，要求蔡總統下台</td>\n",
       "      <td>1.0</td>\n",
       "    </tr>\n",
       "    <tr>\n",
       "      <th>634</th>\n",
       "      <td>總統就職日，百姓集結總統府高喊下台</td>\n",
       "      <td>MyGoPen</td>\n",
       "      <td>3.0</td>\n",
       "      <td>NaN</td>\n",
       "      <td>總統就職日，百姓集結總統府高喊下台</td>\n",
       "      <td>1.0</td>\n",
       "    </tr>\n",
       "    <tr>\n",
       "      <th>635</th>\n",
       "      <td>總統與外賓在總統府合照時，後面掛了一幅字畫，是中國前領導人毛澤東所寫的七言律詩長征</td>\n",
       "      <td>MyGoPen</td>\n",
       "      <td>3.0</td>\n",
       "      <td>NaN</td>\n",
       "      <td>總統與外賓在總統府合照時，後面掛了一幅字畫，是中國前領導人毛澤東所寫的七言律詩長征</td>\n",
       "      <td>1.0</td>\n",
       "    </tr>\n",
       "  </tbody>\n",
       "</table>\n",
       "<p>636 rows × 6 columns</p>\n",
       "</div>"
      ],
      "text/plain": [
       "                                         claim   source  category     times  \\\n",
       "0                            友邦挺台參與WHA案遭中國強勢否決       公視       3.0  20180522   \n",
       "1                         日本提案釣魚台更名保釣團體批侵害我國主權       公視       3.0  20200609   \n",
       "2                            日本NHK專訪蔡英文談兩岸關係議題       公視       3.0  20190803   \n",
       "3                       世界衛生組織大會將舉行我國目前仍未收到邀請函       公視       3.0  20200512   \n",
       "4                         世界衛生組織大會視訊進行美日與我友邦挺台       公視       3.0  20200519   \n",
       "..                                         ...      ...       ...       ...   \n",
       "631                             廣東深圳政變要習大大下台抗爭  MyGoPen       3.0       NaN   \n",
       "632                                蔡英文說小三通、通三小  MyGoPen       3.0       NaN   \n",
       "633            總統府很熱鬧，新聞都沒報、反性解放進入校園抗議，要求蔡總統下台  MyGoPen       3.0       NaN   \n",
       "634                          總統就職日，百姓集結總統府高喊下台  MyGoPen       3.0       NaN   \n",
       "635  總統與外賓在總統府合照時，後面掛了一幅字畫，是中國前領導人毛澤東所寫的七言律詩長征  MyGoPen       3.0       NaN   \n",
       "\n",
       "                                                  text  label  \n",
       "0    世界衛生大會WHA5月21號正式在日內瓦展開，臺灣今年沒受邀，但有15個友邦向大會提案邀請臺...    0.0  \n",
       "1    日本石垣市議會今天預計提出將釣魚台更名為登野城尖閣的提案，保釣團體今天上午前往日本交流協會前...    0.0  \n",
       "2    日本NHK電視台，接連兩天以兩岸關係為議題，先播出臺灣關心香港反送中運動，昨天播出總統蔡英文...    0.0  \n",
       "3    世界衛生大會即將舉行，但臺灣沒有收到邀請函美國參議院通過法案，要求國務院應該協助臺灣以觀察員...    0.0  \n",
       "4    世界衛生大會正在以視訊方式進行當中，但臺灣沒有受邀，包括美、日及臺灣友邦12個友邦都已經在會...    0.0  \n",
       "..                                                 ...    ...  \n",
       "631                                     廣東深圳政變要習大大下台抗爭    1.0  \n",
       "632                                     蔡英文說小三通、通三小的影片    1.0  \n",
       "633                    總統府很熱鬧，新聞都沒報、反性解放進入校園抗議，要求蔡總統下台    1.0  \n",
       "634                                  總統就職日，百姓集結總統府高喊下台    1.0  \n",
       "635          總統與外賓在總統府合照時，後面掛了一幅字畫，是中國前領導人毛澤東所寫的七言律詩長征    1.0  \n",
       "\n",
       "[636 rows x 6 columns]"
      ]
     },
     "execution_count": 96,
     "metadata": {},
     "output_type": "execute_result"
    }
   ],
   "source": [
    "df"
   ]
  },
  {
   "cell_type": "code",
   "execution_count": 97,
   "metadata": {},
   "outputs": [
    {
     "data": {
      "text/html": [
       "<div>\n",
       "<style scoped>\n",
       "    .dataframe tbody tr th:only-of-type {\n",
       "        vertical-align: middle;\n",
       "    }\n",
       "\n",
       "    .dataframe tbody tr th {\n",
       "        vertical-align: top;\n",
       "    }\n",
       "\n",
       "    .dataframe thead th {\n",
       "        text-align: right;\n",
       "    }\n",
       "</style>\n",
       "<table border=\"1\" class=\"dataframe\">\n",
       "  <thead>\n",
       "    <tr style=\"text-align: right;\">\n",
       "      <th></th>\n",
       "      <th>0</th>\n",
       "      <th>WS</th>\n",
       "      <th>POS</th>\n",
       "      <th>NER</th>\n",
       "      <th>label</th>\n",
       "      <th>category</th>\n",
       "    </tr>\n",
       "  </thead>\n",
       "  <tbody>\n",
       "    <tr>\n",
       "      <th>0</th>\n",
       "      <td>臺灣強制性休假兩星期</td>\n",
       "      <td>[臺灣, 強制性, 休假, 兩, 星期]</td>\n",
       "      <td>[Nc, Na, VA, Neu, Na]</td>\n",
       "      <td>{(7, 10, DATE, 兩星期), (0, 2, GPE, 臺灣)}</td>\n",
       "      <td>1.0</td>\n",
       "      <td>健康</td>\n",
       "    </tr>\n",
       "    <tr>\n",
       "      <th>1</th>\n",
       "      <td>鑽石公主號19人已集中檢疫隔離，均無疑似症狀</td>\n",
       "      <td>[鑽石, 公主號, 19, 已, 集中, 檢疫, 隔離, 均, 無疑, 似, 症狀]</td>\n",
       "      <td>[Na, Nb, Neu, Na, D, VC, VA, VC, COMMACATEGORY...</td>\n",
       "      <td>{(5, 7, CARDINAL, 19)}</td>\n",
       "      <td>1.0</td>\n",
       "      <td>健康</td>\n",
       "    </tr>\n",
       "    <tr>\n",
       "      <th>2</th>\n",
       "      <td>2009年接種H1N1新型流感疫苗造成40人死亡</td>\n",
       "      <td>[2009年, 接種, H1N1, 新型流感, 疫苗, 造成, 40, 死亡]</td>\n",
       "      <td>[Nd, VC, FW, Na, Na, VK, Neu, Na, VH]</td>\n",
       "      <td>{(19, 21, CARDINAL, 40), (0, 5, DATE, 2009年)}</td>\n",
       "      <td>1.0</td>\n",
       "      <td>健康</td>\n",
       "    </tr>\n",
       "    <tr>\n",
       "      <th>3</th>\n",
       "      <td>衛生福利部編製萊豬文宣發放予國小</td>\n",
       "      <td>[衛生, 福利部, 編製, 萊豬文, 宣發, 放予, 國小]</td>\n",
       "      <td>[Na, Nc, VC, Na, VC, VD, Nc]</td>\n",
       "      <td>{(0, 5, ORG, 衛生福利部), (7, 10, PERSON, 萊豬文)}</td>\n",
       "      <td>1.0</td>\n",
       "      <td>健康</td>\n",
       "    </tr>\n",
       "    <tr>\n",
       "      <th>4</th>\n",
       "      <td>旺旺水神抗菌液隨身瓶30ml，可口腔清潔抗菌，該產品施用於人體，具預防、減輕、或治療疾病</td>\n",
       "      <td>[旺旺, 水神, 抗菌液, 隨身瓶, 30, ml, 口腔, 清潔, 抗菌, 產品, 施用,...</td>\n",
       "      <td>[Nb, Na, Na, Na, Neu, Nf, COMMACATEGORY, D, Na...</td>\n",
       "      <td>{(0, 7, PRODUCT, 旺旺水神抗菌液), (10, 14, QUANTITY, ...</td>\n",
       "      <td>1.0</td>\n",
       "      <td>健康</td>\n",
       "    </tr>\n",
       "  </tbody>\n",
       "</table>\n",
       "</div>"
      ],
      "text/plain": [
       "                                              0  \\\n",
       "0                                    臺灣強制性休假兩星期   \n",
       "1                        鑽石公主號19人已集中檢疫隔離，均無疑似症狀   \n",
       "2                      2009年接種H1N1新型流感疫苗造成40人死亡   \n",
       "3                              衛生福利部編製萊豬文宣發放予國小   \n",
       "4  旺旺水神抗菌液隨身瓶30ml，可口腔清潔抗菌，該產品施用於人體，具預防、減輕、或治療疾病   \n",
       "\n",
       "                                                  WS  \\\n",
       "0                               [臺灣, 強制性, 休假, 兩, 星期]   \n",
       "1         [鑽石, 公主號, 19, 已, 集中, 檢疫, 隔離, 均, 無疑, 似, 症狀]   \n",
       "2            [2009年, 接種, H1N1, 新型流感, 疫苗, 造成, 40, 死亡]   \n",
       "3                     [衛生, 福利部, 編製, 萊豬文, 宣發, 放予, 國小]   \n",
       "4  [旺旺, 水神, 抗菌液, 隨身瓶, 30, ml, 口腔, 清潔, 抗菌, 產品, 施用,...   \n",
       "\n",
       "                                                 POS  \\\n",
       "0                              [Nc, Na, VA, Neu, Na]   \n",
       "1  [Na, Nb, Neu, Na, D, VC, VA, VC, COMMACATEGORY...   \n",
       "2              [Nd, VC, FW, Na, Na, VK, Neu, Na, VH]   \n",
       "3                       [Na, Nc, VC, Na, VC, VD, Nc]   \n",
       "4  [Nb, Na, Na, Na, Neu, Nf, COMMACATEGORY, D, Na...   \n",
       "\n",
       "                                                 NER  label category  \n",
       "0              {(7, 10, DATE, 兩星期), (0, 2, GPE, 臺灣)}    1.0       健康  \n",
       "1                             {(5, 7, CARDINAL, 19)}    1.0       健康  \n",
       "2      {(19, 21, CARDINAL, 40), (0, 5, DATE, 2009年)}    1.0       健康  \n",
       "3         {(0, 5, ORG, 衛生福利部), (7, 10, PERSON, 萊豬文)}    1.0       健康  \n",
       "4  {(0, 7, PRODUCT, 旺旺水神抗菌液), (10, 14, QUANTITY, ...    1.0       健康  "
      ]
     },
     "execution_count": 97,
     "metadata": {},
     "output_type": "execute_result"
    }
   ],
   "source": [
    "# 想讓model 考慮POS這個feature \n",
    "ws.head() "
   ]
  },
  {
   "cell_type": "markdown",
   "metadata": {},
   "source": [
    "life:0\n",
    "\n",
    "health:1\n",
    "\n",
    "exercise:2\n",
    "\n",
    "politic:3\n",
    "\n",
    "finance:4\n"
   ]
  },
  {
   "cell_type": "code",
   "execution_count": 98,
   "metadata": {},
   "outputs": [],
   "source": [
    "df.category.replace(\"生活\",\"0\",inplace=True)\n",
    "df.category.replace(\"健康\",\"1\",inplace=True)\n",
    "df.category.replace(\"娛樂\",\"0\",inplace=True)\n",
    "df.category.replace(\"體育\",\"2\",inplace=True)\n",
    "df.category.replace(\"政治\",\"3\",inplace=True)\n",
    "df.category.replace(\"財經\",\"4\",inplace=True)\n",
    "df.category.replace(\"財金\",\"4\",inplace=True)\n",
    "df.category.replace(\"社會\",\"0\",inplace=True)\n",
    "df.category.replace(\"國際外交\",\"3\",inplace=True)"
   ]
  },
  {
   "cell_type": "code",
   "execution_count": 99,
   "metadata": {},
   "outputs": [],
   "source": [
    "data.category.replace(\"生活\",\"0\",inplace=True)\n",
    "data.category.replace(\"健康\",\"1\",inplace=True)\n",
    "data.category.replace(\"娛樂\",\"0\",inplace=True)\n",
    "data.category.replace(\"體育\",\"2\",inplace=True)\n",
    "data.category.replace(\"政治\",\"3\",inplace=True)\n",
    "data.category.replace(\"財經\",\"4\",inplace=True)\n",
    "data.category.replace(\"財金\",\"4\",inplace=True)\n",
    "data.category.replace(\"社會\",\"0\",inplace=True)\n",
    "data.category.replace(\"國際外交\",\"3\",inplace=True)"
   ]
  },
  {
   "cell_type": "code",
   "execution_count": 100,
   "metadata": {},
   "outputs": [
    {
     "name": "stdout",
     "output_type": "stream",
     "text": [
      "  category    數量\n",
      "0        0  1992\n",
      "1        1  1588\n",
      "2        2    53\n",
      "3        3  1497\n",
      "4        4    72\n"
     ]
    }
   ],
   "source": [
    "target_feature = 'claim'\n",
    "data[\"claim\"].drop_duplicates(keep=False, inplace=True) # inplace changes directly on dataframe\n",
    "print(data.groupby(['category'],as_index=False)['category'].agg({'數量':'count'}))"
   ]
  },
  {
   "cell_type": "code",
   "execution_count": 52,
   "metadata": {},
   "outputs": [],
   "source": [
    "data.dropna(subset=[\"claim\"], inplace=True)"
   ]
  },
  {
   "cell_type": "code",
   "execution_count": 29,
   "metadata": {},
   "outputs": [
    {
     "data": {
      "image/png": "[encoded data removed]",
      "text/plain": [
       "<Figure size 720x1440 with 1 Axes>"
      ]
     },
     "metadata": {},
     "output_type": "display_data"
    }
   ],
   "source": [
    "#pie\n",
    "fig = plt.figure(figsize=(10,20))\n",
    "plt.pie(data['category'].value_counts().values, \n",
    "        labels=data['category'].value_counts().index,\n",
    "        autopct='%1.1f%%');"
   ]
  },
  {
   "cell_type": "code",
   "execution_count": 101,
   "metadata": {},
   "outputs": [],
   "source": [
    "df.insert(1, target_feature + \"_vector\", 0) \n",
    "df[target_feature + \"_vector\"] = df[target_feature + \"_vector\"].astype(object)\n",
    "\n",
    "data_ws=df.copy()"
   ]
  },
  {
   "cell_type": "markdown",
   "metadata": {},
   "source": [
    "# CKIP creator"
   ]
  },
  {
   "cell_type": "code",
   "execution_count": 102,
   "metadata": {},
   "outputs": [],
   "source": [
    "from ckiptagger import data_utils, construct_dictionary, WS, POS, NER\n",
    "ws = WS(\"/home/alissa77/data\")\n",
    "pos = POS(\"/home/alissa77/data\")\n",
    "ner = NER(\"/home/alissa77/data\")"
   ]
  },
  {
   "cell_type": "code",
   "execution_count": 103,
   "metadata": {},
   "outputs": [
    {
     "name": "stdout",
     "output_type": "stream",
     "text": [
      "[(2, {'公有': 2.0}), (3, {'土地公': 1.0, '土地婆': 1.0})]\n"
     ]
    }
   ],
   "source": [
    "word_to_weight = {\n",
    "    \"土地公\": 1,\n",
    "    \"土地婆\": 1,\n",
    "    \"公有\": 2,\n",
    "}\n",
    "dictionary = construct_dictionary(word_to_weight)\n",
    "print(dictionary)"
   ]
  },
  {
   "cell_type": "markdown",
   "metadata": {},
   "source": [
    "# testing dataset 遇到error: "
   ]
  },
  {
   "cell_type": "code",
   "execution_count": 105,
   "metadata": {
    "tags": []
   },
   "outputs": [
    {
     "ename": "TypeError",
     "evalue": "'list' object is not callable",
     "output_type": "error",
     "traceback": [
      "\u001b[0;31m---------------------------------------------------------------------------\u001b[0m",
      "\u001b[0;31mTypeError\u001b[0m                                 Traceback (most recent call last)",
      "\u001b[0;32m<ipython-input-105-4d19937591d1>\u001b[0m in \u001b[0;36m<module>\u001b[0;34m\u001b[0m\n\u001b[1;32m     12\u001b[0m         \u001b[0;31m# coerce_dictionary = dictionary2, # words in this dictionary are forced\u001b[0m\u001b[0;34m\u001b[0m\u001b[0;34m\u001b[0m\u001b[0;34m\u001b[0m\u001b[0m\n\u001b[1;32m     13\u001b[0m     )\n\u001b[0;32m---> 14\u001b[0;31m     \u001b[0mpos_sentence_list\u001b[0m \u001b[0;34m=\u001b[0m \u001b[0mpos\u001b[0m\u001b[0;34m(\u001b[0m\u001b[0mword_sentence_list\u001b[0m\u001b[0;34m)\u001b[0m\u001b[0;34m\u001b[0m\u001b[0;34m\u001b[0m\u001b[0m\n\u001b[0m\u001b[1;32m     15\u001b[0m     \u001b[0mentity_sentence_list\u001b[0m \u001b[0;34m=\u001b[0m \u001b[0mner\u001b[0m\u001b[0;34m(\u001b[0m\u001b[0mword_sentence_list\u001b[0m\u001b[0;34m,\u001b[0m \u001b[0mpos_sentence_list\u001b[0m\u001b[0;34m)\u001b[0m\u001b[0;34m\u001b[0m\u001b[0;34m\u001b[0m\u001b[0m\n\u001b[1;32m     16\u001b[0m \u001b[0;34m\u001b[0m\u001b[0m\n",
      "\u001b[0;31mTypeError\u001b[0m: 'list' object is not callable"
     ]
    }
   ],
   "source": [
    "claim_ws = []\n",
    "pos=[]\n",
    "ner=[]\n",
    "\n",
    "for claim in data_ws['claim']:\n",
    "    sentence_list = [claim]\n",
    "    word_sentence_list = ws(\n",
    "        sentence_list,\n",
    "        # sentence_segmentation = True, # To consider delimiters\n",
    "        # segment_delimiter_set = {\",\", \"。\", \":\", \"?\", \"!\", \";\", \"，\"}, # This is the defualt set of delimiters\n",
    "        recommend_dictionary = dictionary, # words in this dictionary are encouraged\n",
    "        # coerce_dictionary = dictionary2, # words in this dictionary are forced\n",
    "    )\n",
    "    pos_sentence_list = pos(word_sentence_list)\n",
    "    entity_sentence_list = ner(word_sentence_list, pos_sentence_list)\n",
    "    \n",
    "    claim_ws.append(word_sentence_list[0])\n",
    "    pos.append(word_sentence_list[0])\n",
    "    ner.append(word_sentence_list[0])\n",
    "\n",
    "    print(word_sentence_list[0])\n",
    "    \n",
    "data_ws['claim'] = claim_ws\n",
    "data_ws['pos'] = pos\n",
    "data_ws['ner'] = ner"
   ]
  },
  {
   "cell_type": "code",
   "execution_count": null,
   "metadata": {},
   "outputs": [],
   "source": [
    "### stopwords\n",
    "stop_words = open('./stops.txt', 'r')\n",
    "lines = stop_words.readlines()\n",
    "stop_words_dict = {}\n",
    "for line in lines:\n",
    "    line = line.replace('\\n','')\n",
    "    stop_words_dict[line] = 1"
   ]
  },
  {
   "cell_type": "code",
   "execution_count": null,
   "metadata": {},
   "outputs": [],
   "source": [
    "def print_word_pos_sentence(word_sentence, pos_sentence):\n",
    "    assert len(word_sentence) == len(pos_sentence)\n",
    "    for word, pos in zip(word_sentence, pos_sentence):\n",
    "        print(f\"{word}({pos})\", end=\"\\u3000\")\n",
    "    print()\n",
    "    return\n",
    "    \n",
    "for i, sentence in enumerate(sentence_list):\n",
    "    print()\n",
    "    print(f\"'{sentence}'\")\n",
    "    print_word_pos_sentence(word_sentence_list[i],  pos_sentence_list[i])\n",
    "    for entity in sorted(entity_sentence_list[i]):\n",
    "        print(entity)"
   ]
  },
  {
   "cell_type": "code",
   "execution_count": null,
   "metadata": {
    "tags": []
   },
   "outputs": [],
   "source": [
    "# vectering WS\n",
    "for idx in range(0, data_ws.shape[0]):\n",
    "    sys.stdout.write('\\r'+ \"Implementing BERT vectoring {}% \\n\".format(round(100 * idx/data_set_filtered_ws.shape[0], 2)))\n",
    "    title_list = []\n",
    "    for word in data_set_filtered_ws[target_feature].iloc[idx]:\n",
    "            vec = bv.encode([word])\n",
    "            title_list.append(vec)\n",
    "            data_set_filtered_ws[target_feature + \"_vector\"].iloc[idx] = title_list"
   ]
  },
  {
   "cell_type": "code",
   "execution_count": null,
   "metadata": {},
   "outputs": [],
   "source": [
    "print(data_set_filtered_ws.shape)\n",
    "data_set_filtered_ws.to_pickle('test.pkl')"
   ]
  },
  {
   "cell_type": "code",
   "execution_count": null,
   "metadata": {},
   "outputs": [],
   "source": []
  }
 ],
 "metadata": {
  "kernelspec": {
   "display_name": "Python 3",
   "language": "python",
   "name": "python3"
  },
  "language_info": {
   "codemirror_mode": {
    "name": "ipython",
    "version": 3
   },
   "file_extension": ".py",
   "mimetype": "text/x-python",
   "name": "python",
   "nbconvert_exporter": "python",
   "pygments_lexer": "ipython3",
   "version": "3.6.9"
  }
 },
 "nbformat": 4,
 "nbformat_minor": 2
}
