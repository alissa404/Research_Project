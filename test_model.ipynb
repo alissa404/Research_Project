{
 "cells": [
  {
   "source": [
    "import pickle\n",
    "import pandas as pd\n",
    "import numpy as np\n",
    "from sklearn.model_selection import StratifiedKFold\n",
    "from sklearn.metrics import f1_score\n",
    "from sklearn.metrics import confusion_matrix\n",
    "from sklearn.metrics import classification_report\n",
    "import tensorflow.keras\n",
    "from tensorflow.keras.models import Sequential\n",
    "from tensorflow.keras.layers import Dense, Dropout, Activation\n",
    "from tensorflow.keras.optimizers import Adam\n",
    "from sklearn.preprocessing import StandardScaler\n",
    "from sklearn.cluster import KMeans\n",
    "from sklearn.neighbors import KNeighborsClassifier\n",
    "scaler = StandardScaler()\n",
    "\n",
    "#test= pd.read_pickle(\"test.pkl\") \n",
    "# test.pkl is error (in bert.ipynb)\n",
    "\n",
    "df_ = pd.read_pickle(\"CKIP.pkl\")\n",
    "df = pd.read_pickle(\"train.pkl\")\n",
    "df\n",
    "\n",
    "# 用sequentail model\n",
    "# 有負值用naive_bayes會失敗"
   ],
   "cell_type": "code",
   "metadata": {},
   "execution_count": null,
   "outputs": []
  },
  {
   "cell_type": "code",
   "execution_count": 104,
   "metadata": {},
   "outputs": [
    {
     "data": {
      "text/html": [
       "<div>\n",
       "<style scoped>\n",
       "    .dataframe tbody tr th:only-of-type {\n",
       "        vertical-align: middle;\n",
       "    }\n",
       "\n",
       "    .dataframe tbody tr th {\n",
       "        vertical-align: top;\n",
       "    }\n",
       "\n",
       "    .dataframe thead th {\n",
       "        text-align: right;\n",
       "    }\n",
       "</style>\n",
       "<table border=\"1\" class=\"dataframe\">\n",
       "  <thead>\n",
       "    <tr style=\"text-align: right;\">\n",
       "      <th></th>\n",
       "      <th>claim_vector</th>\n",
       "      <th>category</th>\n",
       "    </tr>\n",
       "  </thead>\n",
       "  <tbody>\n",
       "    <tr>\n",
       "      <th>0</th>\n",
       "      <td>[[0.5118343, 0.2832612, -0.5664241, 0.02663630...</td>\n",
       "      <td>0</td>\n",
       "    </tr>\n",
       "    <tr>\n",
       "      <th>1</th>\n",
       "      <td>[[0.48064676, -0.035909783, 0.12545203, 0.1254...</td>\n",
       "      <td>0</td>\n",
       "    </tr>\n",
       "    <tr>\n",
       "      <th>2</th>\n",
       "      <td>[[1.006052, 0.0018780907, 0.0010036384, 0.1689...</td>\n",
       "      <td>0</td>\n",
       "    </tr>\n",
       "    <tr>\n",
       "      <th>3</th>\n",
       "      <td>[[0.07534623, 0.068638965, -0.24728344, -0.110...</td>\n",
       "      <td>0</td>\n",
       "    </tr>\n",
       "    <tr>\n",
       "      <th>4</th>\n",
       "      <td>[[0.78684986, -0.06461421, 0.086510755, 0.0984...</td>\n",
       "      <td>0</td>\n",
       "    </tr>\n",
       "    <tr>\n",
       "      <th>...</th>\n",
       "      <td>...</td>\n",
       "      <td>...</td>\n",
       "    </tr>\n",
       "    <tr>\n",
       "      <th>4209</th>\n",
       "      <td>[[0.4857521, 0.054854333, -0.72105014, 0.73758...</td>\n",
       "      <td>4</td>\n",
       "    </tr>\n",
       "    <tr>\n",
       "      <th>4210</th>\n",
       "      <td>[[0.46975717, -0.1995936, -0.81154597, 0.23500...</td>\n",
       "      <td>4</td>\n",
       "    </tr>\n",
       "    <tr>\n",
       "      <th>4211</th>\n",
       "      <td>[[-0.00020017827, -0.6203824, -0.53798896, -0....</td>\n",
       "      <td>4</td>\n",
       "    </tr>\n",
       "    <tr>\n",
       "      <th>4212</th>\n",
       "      <td>[[0.453864, 0.023209458, -0.1598744, 0.3983718...</td>\n",
       "      <td>4</td>\n",
       "    </tr>\n",
       "    <tr>\n",
       "      <th>4213</th>\n",
       "      <td>[[0.4751052, -0.1143473, -0.3135481, 0.298903,...</td>\n",
       "      <td>4</td>\n",
       "    </tr>\n",
       "  </tbody>\n",
       "</table>\n",
       "<p>4214 rows × 2 columns</p>\n",
       "</div>"
      ],
      "text/plain": [
       "                                           claim_vector category\n",
       "0     [[0.5118343, 0.2832612, -0.5664241, 0.02663630...        0\n",
       "1     [[0.48064676, -0.035909783, 0.12545203, 0.1254...        0\n",
       "2     [[1.006052, 0.0018780907, 0.0010036384, 0.1689...        0\n",
       "3     [[0.07534623, 0.068638965, -0.24728344, -0.110...        0\n",
       "4     [[0.78684986, -0.06461421, 0.086510755, 0.0984...        0\n",
       "...                                                 ...      ...\n",
       "4209  [[0.4857521, 0.054854333, -0.72105014, 0.73758...        4\n",
       "4210  [[0.46975717, -0.1995936, -0.81154597, 0.23500...        4\n",
       "4211  [[-0.00020017827, -0.6203824, -0.53798896, -0....        4\n",
       "4212  [[0.453864, 0.023209458, -0.1598744, 0.3983718...        4\n",
       "4213  [[0.4751052, -0.1143473, -0.3135481, 0.298903,...        4\n",
       "\n",
       "[4214 rows x 2 columns]"
      ]
     },
     "execution_count": 104,
     "metadata": {},
     "output_type": "execute_result"
    }
   ],
   "source": [
    "target_feature = 'claim'\n",
    "data = df.filter([target_feature + \"_vector\",'category'])\n",
    "data"
   ]
  },
  {
   "source": [
    "X_train,X_test = df[\"claim_vector\"], df[\"label\"]\n",
    "y_train,y_test = test[\"claim_vector\"], test[\"label\"]\n",
    "#train_data, test_data = train_test_split(df,test, random_state=77, train_size=0.9,shuffle=True)\n",
    "print(X_train)\n",
    "print(y_train)"
   ],
   "cell_type": "code",
   "metadata": {},
   "execution_count": null,
   "outputs": []
  },
  {
   "cell_type": "code",
   "execution_count": 106,
   "metadata": {},
   "outputs": [
    {
     "name": "stdout",
     "output_type": "stream",
     "text": [
      "(3581,)\n",
      "(633,)\n",
      "(3792, 1)\n",
      "(422, 1)\n"
     ]
    }
   ],
   "source": [
    "print(X_train.shape)\n",
    "print(X_test.shape)\n",
    "print(y_train.shape)\n",
    "print(y_test.shape)"
   ]
  },
  {
   "source": [
    "#test_data=data[(data.category!=\"健康\")& (data.category!=\"生活\")]\n",
    "train_data=data[(data.category!=\"health\")]\n",
    "print(train_data)"
   ],
   "cell_type": "markdown",
   "metadata": {}
  },
  {
   "source": [
    "from sklearn.model_selection import train_test_split\n",
    "test_data=data[data.category==\"health\"]\n",
    "#train_data2=data[data.category==\"生活\"]\n",
    "#train_data=pd.concat([train_data1,train_data2])\n",
    "print(test_data)"
   ],
   "cell_type": "markdown",
   "metadata": {}
  },
  {
   "source": [
    "from keras.utils import to_categorical\n",
    "\n",
    "y_train = to_categorical(y_train)\n",
    "y_test = to_categorical(y_test)"
   ],
   "cell_type": "markdown",
   "metadata": {}
  },
  {
   "cell_type": "code",
   "execution_count": null,
   "metadata": {},
   "outputs": [],
   "source": [
    "import tensorflow.keras\n",
    "from tensorflow.keras.models import Sequential\n",
    "from tensorflow.keras.layers import Dense, Dropout, Activation\n",
    "from tensorflow.keras.optimizers import Adam\n",
    "\n",
    "input_dim = x_train.shape[1]\n",
    "model = Sequential()\n",
    "model.add(Dense(64, activation='relu', input_dim=input_dim))\n",
    "model.add(Dense(1, activation='sigmoid'))\n",
    "\n",
    "adam = Adam(lr=0.001)\n",
    "model.compile(optimizer = adam,\n",
    "              loss='binary_crossentropy',\n",
    "              metrics=['accuracy'])\n",
    " \n",
    "history = model.fit(x_train, y_train, validation_split=0.1, epochs=100,batch_size=200, verbose=2)"
   ]
  },
  {
   "cell_type": "code",
   "execution_count": 139,
   "metadata": {},
   "outputs": [
    {
     "name": "stdout",
     "output_type": "stream",
     "text": [
      "422/422 [==============================] - 0s 24us/sample - loss: 0.3494 - acc: 0.8815\n",
      "test loss, test acc: [0.34937885361260146, 0.8815166]\n"
     ]
    }
   ],
   "source": [
    "# testing data\n",
    "score = model.evaluate(x_test, y_test)\n",
    "print(\"test loss, test acc:\", score)"
   ]
  },
  {
   "cell_type": "code",
   "execution_count": 138,
   "metadata": {},
   "outputs": [
    {
     "name": "stdout",
     "output_type": "stream",
     "text": [
      "Model: \"sequential_37\"\n",
      "_________________________________________________________________\n",
      "Layer (type)                 Output Shape              Param #   \n",
      "=================================================================\n",
      "dense_72 (Dense)             (None, 64)                49216     \n",
      "_________________________________________________________________\n",
      "dense_73 (Dense)             (None, 6)                 390       \n",
      "=================================================================\n",
      "Total params: 49,606\n",
      "Trainable params: 49,606\n",
      "Non-trainable params: 0\n",
      "_________________________________________________________________\n"
     ]
    }
   ],
   "source": [
    "model.summary()"
   ]
  },
  {
   "cell_type": "code",
   "execution_count": 12,
   "metadata": {},
   "outputs": [
    {
     "data": {
      "image/png": "[encoded data removed]",
      "text/plain": [
       "<Figure size 1440x360 with 2 Axes>"
      ]
     },
     "metadata": {
      "needs_background": "light"
     },
     "output_type": "display_data"
    }
   ],
   "source": [
    "import matplotlib.pyplot as plt\n",
    "plt.subplots(1,2,figsize=(20,5))\n",
    "history_dict = history.history\n",
    "#print(history_dict.keys())\n",
    "\n",
    "# summarize history for accuracy\n",
    "ax1 = plt.subplot(121)\n",
    "ax1.plot(history.history['acc'])\n",
    "ax1.plot(history.history['val_acc'])\n",
    "ax1.set_title('model accuracy')\n",
    "ax1.set_ylabel('accuracy')\n",
    "ax1.set_xlabel('epoch')\n",
    "ax1.legend(['train', 'validation'], loc='upper left')\n",
    "\n",
    "# summarize history for loss\n",
    "ax2 = plt.subplot(122)\n",
    "ax2.plot(history.history['loss'])\n",
    "ax2.plot(history.history['val_loss'])\n",
    "ax2.set_title('model loss')\n",
    "ax2.set_ylabel('loss')\n",
    "ax2.set_xlabel('epoch')\n",
    "ax2.legend(['train', 'validation'], loc='upper left')\n",
    "plt.show()"
   ]
  },
  {
   "cell_type": "code",
   "execution_count": null,
   "metadata": {},
   "outputs": [],
   "source": [
    "kfold = StratifiedKFold(n_splits=5, shuffle=True)\n",
    "cvscores = []\n",
    "f1_scores = []\n",
    "count = 1\n",
    "input_dim = x_train.shape[1]\n",
    "for train, test in kfold.split(x_train, y_train):\n",
    "    print(\"Fold {}\".format(count))\n",
    "    count += 1\n",
    "    model = Sequential()\n",
    "    model.add(Dense(64, activation='relu', input_dim=input_dim))\n",
    "    model.add(Dense(1, activation='sigmoid'))\n",
    "\n",
    "    adam = Adam(lr=0.001)\n",
    "    model.compile(optimizer = adam,\n",
    "                loss='binary_crossentropy',\n",
    "                metrics=['accuracy'])\n",
    "    model.fit(x_train, y_train, epochs=5, verbose=0)\n",
    "    # evaluate the model\n",
    "    scores = model.evaluate(x_train[test], y_train[test], verbose=0)\n",
    "    y_pred = model.predict_classes(x_train[test], verbose=0)\n",
    "    f1 = f1_score(y_train[test], y_pred)\n",
    "    confmat = confusion_matrix(y_train[test], y_pred)\n",
    "    print(\"%s: %.2f%%\" % (model.metrics_names[1], scores[1]*100))\n",
    "    print(\"F1 Score: %.2f%%\" % (np.mean(f1*100)))\n",
    "    print(\"Confusion Matrix:\\n {}\".format(confmat))\n",
    "    print(\"\\n\")\n",
    "    cvscores.append(scores[1] * 100)\n",
    "    f1_scores.append(f1 * 100)\n",
    "    \n",
    "print(\"Average accuracy : %.2f%% (+/- %.2f%%)\" % (np.mean(cvscores), np.std(cvscores)))\n",
    "print(\"Average F1 score : %.2f%% (+/- %.2f%%)\" % (np.mean(f1_scores), np.std(f1_scores)))"
   ]
  },
  {
   "cell_type": "code",
   "execution_count": null,
   "metadata": {},
   "outputs": [],
   "source": [
    "label_list = [\"0\", \"1\"]\n",
    "\n",
    "predicted = model.predict(x_test)\n",
    "result = pd.DataFrame( {'true_labels': y_test,'predicted_labels': predicted} )\n",
    "\n",
    "for predicted_item, result in zip(predicted, y_test):\n",
    "    print(label_list[predicted_item], ' - ', label_list[result])"
   ]
  },
  {
   "cell_type": "code",
   "execution_count": null,
   "metadata": {},
   "outputs": [],
   "source": []
  },
  {
   "cell_type": "code",
   "execution_count": null,
   "metadata": {},
   "outputs": [],
   "source": []
  },
  {
   "cell_type": "code",
   "execution_count": null,
   "metadata": {},
   "outputs": [],
   "source": []
  },
  {
   "cell_type": "code",
   "execution_count": null,
   "metadata": {},
   "outputs": [],
   "source": []
  },
  {
   "source": [
    "# classify category\n"
   ],
   "cell_type": "markdown",
   "metadata": {}
  },
  {
   "cell_type": "code",
   "execution_count": null,
   "metadata": {},
   "outputs": [],
   "source": [
    "# classify category\n",
    "x_train = train_data[target_feature + \"_vector\"].values\n",
    "y_train = train_data['category'].values\n",
    "x_train = np.vstack(x_train)\n",
    "y_train = np.vstack(y_train)\n",
    "\n",
    "x_test = test_data[target_feature + \"_vector\"].values\n",
    "y_test = test_data['category'].values\n",
    "x_test = np.vstack(x_test)\n",
    "y_test = np.vstack(y_test)\n",
    "print(x_train.shape)\n",
    "print(y_train.shape)\n",
    "print(x_test.shape)\n",
    "print(y_test.shape)\n",
    "\n",
    "# classify category\n",
    "import tensorflow.keras\n",
    "from tensorflow.keras.models import Sequential\n",
    "from tensorflow.keras.layers import Dense, Dropout, Activation\n",
    "from tensorflow.keras.optimizers import Adam\n",
    "\n",
    "input_dim = x_train.shape[1]\n",
    "model = Sequential()\n",
    "model.add(Dense(64, activation='relu', input_dim=input_dim))\n",
    "model.add(Dense(6, activation='softmax'))\n",
    "\n",
    "adam = Adam(lr=0.001)\n",
    "model.compile(optimizer = adam,\n",
    "              loss='categorical_crossentropy',\n",
    "              metrics=['accuracy'])\n",
    " \n",
    "history = model.fit(x_train, y_train, validation_split=0.1, epochs=30,batch_size=200)"
   ]
  },
  {
   "cell_type": "code",
   "execution_count": null,
   "metadata": {},
   "outputs": [],
   "source": [
    "category_list = [\"0\", \"1\", \"2\", \"3\", \"4\", \"5\", \"6\"]\n",
    "category_list = [\"\",\"\"]\n",
    "\n",
    "\n",
    "predicted = model.predict(x_test)\n",
    "result_bayes = pd.DataFrame( {'true_labels': y_test,'predicted_labels': predicted})\n",
    "\n",
    "for predicted_item, result in zip(predicted, y_test):\n",
    "    print(category_list[predicted_item], ' - ', category_list[result])"
   ]
  },
  {
   "source": [
    "# testing data\n",
    "score = model.evaluate(x_test, y_test)\n",
    "print(\"test loss, test acc:\", score)"
   ],
   "cell_type": "markdown",
   "metadata": {}
  },
  {
   "source": [
    "model.summary()"
   ],
   "cell_type": "markdown",
   "metadata": {}
  },
  {
   "cell_type": "markdown",
   "metadata": {},
   "source": [
    "from sklearn.metrics import confusion_matrix\n",
    "import matplotlib.pyplot as plt\n",
    "\n",
    "confmat = confusion_matrix(y_test, y_pred)\n",
    "fig, ax = plt.subplots(figsize=(2.5, 2.5))\n",
    "ax.matshow(confmat, cmap=plt.cm.Blues, alpha=0.3)\n",
    "\n",
    "for i in range(confmat.shape[0]):\n",
    "    for j in range(confmat.shape[1]):\n",
    "        ax.text(x=j, y=i, s=confmat[i,j], va='center', ha='center')\n",
    "plt.xlabel('predicted label')        \n",
    "plt.ylabel('true label')\n",
    "plt.show()"
   ]
  },
  {
   "source": [
    "y=data[\"label\"]\n",
    "X=data.drop([\"label\"],axis=1).drop([\"category\"],axis=1)\n",
    "X"
   ],
   "cell_type": "markdown",
   "metadata": {}
  },
  {
   "source": [
    "X_train, X_test, y_train, y_test = train_test_split(X, y, test_size=0.2, random_state=1)\n",
    "X_train, X_val, y_train, y_val = train_test_split(X_train, y_train, test_size=0.25, random_state=1)\n",
    "\n",
    "print(X_train)\n",
    "print(y_test)"
   ],
   "cell_type": "markdown",
   "metadata": {}
  },
  {
   "cell_type": "markdown",
   "metadata": {},
   "source": [
    "from sklearn.preprocessing import MinMaxScaler\n",
    "from sklearn import preprocessing\n",
    "min_max_scaler = preprocessing.MinMaxScaler()\n",
    "\n",
    "X_train_minmax = min_max_scaler.fit_transform(X_train)\n",
    "X_test_minmax = min_max_scaler.fit_transform(X_test)\n",
    "X_val_minmax = min_max_scaler.fit_transform(X_val)\n",
    "\n",
    "from keras.utils import to_categorical\n",
    "y_train_minmax = to_categorical(y_train)\n",
    "y_test_minmax = to_categorical(y_test)\n",
    "y_val_minmax = to_categorical(y_val)"
   ]
  },
  {
   "source": [
    "input_shape = X_train[target_feature + \"_vector\"].iloc[0].shape[1]\n",
    "print(input_shape)\n",
    "\n",
    "input_dim = X_train.shape[1]\n",
    "\n",
    "model = Sequential()\n",
    "model.add(Dense(64, activation='relu', input_dim=input_dim))\n",
    "model.add(Dense(1, activation='sigmoid'))\n",
    "\n",
    "adam = Adam(lr=0.001)\n",
    "model.compile(optimizer = adam,\n",
    "              loss='binary_crossentropy',\n",
    "              metrics=['accuracy'])\n",
    "\n",
    "history = model.fit(x_train, y_train, epochs=100, verbose=2)"
   ],
   "cell_type": "markdown",
   "metadata": {}
  },
  {
   "source": [
    "# testing data\n",
    "score = model.evaluate(x_test, y_test)\n",
    "print(\"test loss, test acc:\", score)"
   ],
   "cell_type": "markdown",
   "metadata": {}
  },
  {
   "cell_type": "code",
   "execution_count": null,
   "metadata": {},
   "outputs": [],
   "source": []
  }
 ],
 "metadata": {
  "kernelspec": {
   "display_name": "Python 3",
   "language": "python",
   "name": "python3"
  },
  "language_info": {
   "codemirror_mode": {
    "name": "ipython",
    "version": 3
   },
   "file_extension": ".py",
   "mimetype": "text/x-python",
   "name": "python",
   "nbconvert_exporter": "python",
   "pygments_lexer": "ipython3",
   "version": "3.9.0"
  }
 },
 "nbformat": 4,
 "nbformat_minor": 2
}