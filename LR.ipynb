{
 "cells": [
  {
   "cell_type": "code",
   "execution_count": 1,
   "metadata": {},
   "outputs": [],
   "source": [
    "import pickle\n",
    "import pandas as pd\n",
    "import numpy as np\n",
    "from sklearn.model_selection import train_test_split\n",
    "from sklearn.linear_model import LogisticRegression\n",
    "import matplotlib.pyplot as plt\n",
    "from sklearn import metrics\n",
    "from sklearn.svm import SVC"
   ]
  },
  {
   "cell_type": "code",
   "execution_count": 15,
   "metadata": {},
   "outputs": [
    {
     "data": {
      "text/html": [
       "<div>\n",
       "<style scoped>\n",
       "    .dataframe tbody tr th:only-of-type {\n",
       "        vertical-align: middle;\n",
       "    }\n",
       "\n",
       "    .dataframe tbody tr th {\n",
       "        vertical-align: top;\n",
       "    }\n",
       "\n",
       "    .dataframe thead th {\n",
       "        text-align: right;\n",
       "    }\n",
       "</style>\n",
       "<table border=\"1\" class=\"dataframe\">\n",
       "  <thead>\n",
       "    <tr style=\"text-align: right;\">\n",
       "      <th></th>\n",
       "      <th>title_vector</th>\n",
       "      <th>label</th>\n",
       "    </tr>\n",
       "  </thead>\n",
       "  <tbody>\n",
       "    <tr>\n",
       "      <th>0</th>\n",
       "      <td>[[0.70286274, 0.17073764, -0.30705276, 0.45384...</td>\n",
       "      <td>0</td>\n",
       "    </tr>\n",
       "    <tr>\n",
       "      <th>1</th>\n",
       "      <td>[[0.6545905, 0.31793684, -0.16926615, 0.443969...</td>\n",
       "      <td>0</td>\n",
       "    </tr>\n",
       "    <tr>\n",
       "      <th>2</th>\n",
       "      <td>[[0.29785162, -0.16027163, -0.13551901, -0.054...</td>\n",
       "      <td>0</td>\n",
       "    </tr>\n",
       "    <tr>\n",
       "      <th>3</th>\n",
       "      <td>[[0.45686468, -0.13775943, -0.18629543, 0.1451...</td>\n",
       "      <td>0</td>\n",
       "    </tr>\n",
       "    <tr>\n",
       "      <th>4</th>\n",
       "      <td>[[0.9725909, -0.32799, -0.14794171, -0.0205453...</td>\n",
       "      <td>0</td>\n",
       "    </tr>\n",
       "    <tr>\n",
       "      <th>...</th>\n",
       "      <td>...</td>\n",
       "      <td>...</td>\n",
       "    </tr>\n",
       "    <tr>\n",
       "      <th>4079</th>\n",
       "      <td>[[0.6555773, -0.19620344, 0.12654096, 0.197239...</td>\n",
       "      <td>1</td>\n",
       "    </tr>\n",
       "    <tr>\n",
       "      <th>4080</th>\n",
       "      <td>[[0.250904, 0.24006441, -0.30439603, 0.3469414...</td>\n",
       "      <td>1</td>\n",
       "    </tr>\n",
       "    <tr>\n",
       "      <th>4081</th>\n",
       "      <td>[[0.32576576, -0.1645283, 0.16357736, 0.230428...</td>\n",
       "      <td>1</td>\n",
       "    </tr>\n",
       "    <tr>\n",
       "      <th>4082</th>\n",
       "      <td>[[0.06359568, 0.28997096, -0.0045049326, -0.10...</td>\n",
       "      <td>1</td>\n",
       "    </tr>\n",
       "    <tr>\n",
       "      <th>4083</th>\n",
       "      <td>[[0.4019432, -0.32816416, -0.01755316, 0.17524...</td>\n",
       "      <td>1</td>\n",
       "    </tr>\n",
       "  </tbody>\n",
       "</table>\n",
       "<p>4084 rows × 2 columns</p>\n",
       "</div>"
      ],
      "text/plain": [
       "                                           title_vector  label\n",
       "0     [[0.70286274, 0.17073764, -0.30705276, 0.45384...      0\n",
       "1     [[0.6545905, 0.31793684, -0.16926615, 0.443969...      0\n",
       "2     [[0.29785162, -0.16027163, -0.13551901, -0.054...      0\n",
       "3     [[0.45686468, -0.13775943, -0.18629543, 0.1451...      0\n",
       "4     [[0.9725909, -0.32799, -0.14794171, -0.0205453...      0\n",
       "...                                                 ...    ...\n",
       "4079  [[0.6555773, -0.19620344, 0.12654096, 0.197239...      1\n",
       "4080  [[0.250904, 0.24006441, -0.30439603, 0.3469414...      1\n",
       "4081  [[0.32576576, -0.1645283, 0.16357736, 0.230428...      1\n",
       "4082  [[0.06359568, 0.28997096, -0.0045049326, -0.10...      1\n",
       "4083  [[0.4019432, -0.32816416, -0.01755316, 0.17524...      1\n",
       "\n",
       "[4084 rows x 2 columns]"
      ]
     },
     "execution_count": 15,
     "metadata": {},
     "output_type": "execute_result"
    }
   ],
   "source": [
    "data = pd.read_pickle(\"./data.pkl\")\n",
    "target_feature = 'title'\n",
    "data = data.filter([target_feature + \"_vector\", 'label'])\n",
    "data"
   ]
  },
  {
   "cell_type": "code",
   "execution_count": 16,
   "metadata": {},
   "outputs": [
    {
     "name": "stdout",
     "output_type": "stream",
     "text": [
      "                                           title_vector  label\n",
      "1663  [[0.7388859, 0.31598932, -0.7008409, -0.135385...      0\n",
      "1808  [[0.43067193, 0.25151628, -0.05118346, 0.22913...      1\n",
      "3052  [[0.55996054, -0.08808704, 0.33135998, -0.4918...      0\n",
      "3379  [[0.4612989, 0.51591045, 0.14013395, 0.2352235...      1\n",
      "2945  [[0.74106884, 0.098825365, -0.059145253, 0.139...      0\n",
      "...                                                 ...    ...\n",
      "3671  [[0.25763643, -0.25455424, -0.2956512, 0.21427...      1\n",
      "2982  [[0.52091175, 0.11620532, -0.7052342, 0.057409...      1\n",
      "3643  [[0.2956747, 0.40991753, 0.24765204, -0.005835...      1\n",
      "2863  [[0.7208885, 0.08250935, -0.2078021, 0.4249501...      1\n",
      "2151  [[0.4888958, -0.22272074, -0.48621497, 0.27561...      1\n",
      "\n",
      "[2858 rows x 2 columns]\n",
      "                                           title_vector  label\n",
      "2550  [[0.18005255, 0.16765955, 0.10753728, -0.15407...      1\n",
      "1787  [[0.5795538, 0.17182183, -0.17318462, 0.484921...      1\n",
      "3424  [[0.25678137, 0.30638728, -0.5052822, 0.647287...      1\n",
      "3601  [[0.81968755, 0.10966589, 0.3849998, 0.2199715...      1\n",
      "432   [[0.47616386, 0.6612598, -0.16844757, 0.327653...      0\n",
      "...                                                 ...    ...\n",
      "1058  [[-0.19303451, -0.06724554, -0.19909191, 0.384...      0\n",
      "1900  [[0.6367806, -0.31446287, -0.15692095, 0.59708...      1\n",
      "1867  [[0.72321594, 0.004204937, -0.13818592, 0.0745...      1\n",
      "454   [[0.93585193, -0.21856657, -0.74355763, -0.384...      0\n",
      "2076  [[0.32526654, -0.17318454, 0.14455685, 0.43625...      1\n",
      "\n",
      "[1226 rows x 2 columns]\n"
     ]
    }
   ],
   "source": [
    "train_data, test_data = train_test_split(data, random_state=777, train_size=0.7,shuffle=True)\n",
    "print(train_data)\n",
    "print(test_data)"
   ]
  },
  {
   "cell_type": "code",
   "execution_count": 17,
   "metadata": {},
   "outputs": [
    {
     "data": {
      "text/plain": [
       "768"
      ]
     },
     "execution_count": 17,
     "metadata": {},
     "output_type": "execute_result"
    }
   ],
   "source": [
    "input_shape = train_data[target_feature + \"_vector\"].iloc[0].shape[1]\n",
    "input_shape"
   ]
  },
  {
   "cell_type": "code",
   "execution_count": 18,
   "metadata": {},
   "outputs": [],
   "source": [
    "x_train = train_data[target_feature + \"_vector\"].values\n",
    "y_train = train_data['label'].values\n",
    "x_train = np.vstack(x_train)\n",
    "y_train = np.vstack(y_train)\n",
    "\n",
    "x_test = test_data[target_feature + \"_vector\"].values\n",
    "y_test = test_data['label'].values\n",
    "x_test = np.vstack(x_test)\n",
    "y_test = np.vstack(y_test)"
   ]
  },
  {
   "cell_type": "markdown",
   "metadata": {},
   "source": [
    "# Logistic regression"
   ]
  },
  {
   "cell_type": "code",
   "execution_count": 19,
   "metadata": {},
   "outputs": [
    {
     "name": "stdout",
     "output_type": "stream",
     "text": [
      "training_dataset:  0.9828551434569629\n",
      "testing_dataset:  0.9078303425774877\n"
     ]
    },
    {
     "name": "stderr",
     "output_type": "stream",
     "text": [
      "/home/alissa77/.local/lib/python3.6/site-packages/sklearn/linear_model/_logistic.py:764: ConvergenceWarning: lbfgs failed to converge (status=1):\n",
      "STOP: TOTAL NO. of ITERATIONS REACHED LIMIT.\n",
      "\n",
      "Increase the number of iterations (max_iter) or scale the data as shown in:\n",
      "    https://scikit-learn.org/stable/modules/preprocessing.html\n",
      "Please also refer to the documentation for alternative solver options:\n",
      "    https://scikit-learn.org/stable/modules/linear_model.html#logistic-regression\n",
      "  extra_warning_msg=_LOGISTIC_SOLVER_CONVERGENCE_MSG)\n"
     ]
    }
   ],
   "source": [
    "get_ipython().magic('matplotlib inline')\n",
    "lr = LogisticRegression()\n",
    "lr.fit(x_train, y_train.ravel())\n",
    "Y_pred = lr.predict(x_train)\n",
    "print('training_dataset: ', metrics.accuracy_score(y_train, Y_pred))\n",
    "test_Y_hat = lr.predict(x_test)\n",
    "print('testing_dataset: ', metrics.accuracy_score(y_test, test_Y_hat))"
   ]
  },
  {
   "cell_type": "markdown",
   "metadata": {},
   "source": [
    "# SVM "
   ]
  },
  {
   "cell_type": "code",
   "execution_count": 21,
   "metadata": {},
   "outputs": [
    {
     "name": "stderr",
     "output_type": "stream",
     "text": [
      "/home/alissa77/.local/lib/python3.6/site-packages/sklearn/utils/validation.py:72: DataConversionWarning: A column-vector y was passed when a 1d array was expected. Please change the shape of y to (n_samples, ), for example using ravel().\n",
      "  return f(**kwargs)\n"
     ]
    },
    {
     "name": "stdout",
     "output_type": "stream",
     "text": [
      "accuracy:0.91\n"
     ]
    }
   ],
   "source": [
    "model = SVC()\n",
    "model.fit(x_train, y_train)\n",
    "#y_pred = model.predict(x_train)\n",
    "accuracy = model.score(x_test, y_test)\n",
    "print('accuracy:%.2f'% accuracy)"
   ]
  },
  {
   "cell_type": "code",
   "execution_count": null,
   "metadata": {},
   "outputs": [],
   "source": []
  }
 ],
 "metadata": {
  "kernelspec": {
   "display_name": "Python 3",
   "language": "python",
   "name": "python3"
  },
  "language_info": {
   "codemirror_mode": {
    "name": "ipython",
    "version": 3
   },
   "file_extension": ".py",
   "mimetype": "text/x-python",
   "name": "python",
   "nbconvert_exporter": "python",
   "pygments_lexer": "ipython3",
   "version": "3.6.9"
  }
 },
 "nbformat": 4,
 "nbformat_minor": 2
}
